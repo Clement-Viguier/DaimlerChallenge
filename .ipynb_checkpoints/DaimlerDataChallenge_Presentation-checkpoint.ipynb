{
 "cells": [
  {
   "cell_type": "code",
   "execution_count": 1,
   "metadata": {},
   "outputs": [],
   "source": [
    "import pandas as pd\n",
    "import numpy as np\n",
    "import sklearn\n",
    "import string, re\n",
    "import nltk\n",
    "import matplotlib.pyplot as plt\n",
    "import seaborn as sns\n",
    "\n",
    "from nltk.stem.lancaster import LancasterStemmer\n",
    "from nltk.stem.wordnet import WordNetLemmatizer \n",
    "\n",
    "# nltk.download('punkt') # if needed\n",
    "# nltk.download('stopwords')\n",
    "# nltk.download('wordnet')\n",
    "from nltk.tokenize import word_tokenize\n",
    "from nltk.corpus import stopwords\n",
    "\n",
    "from sklearn.feature_extraction.text import CountVectorizer\n",
    "from sklearn.naive_bayes import MultinomialNB\n",
    "from sklearn.ensemble import RandomForestClassifier\n",
    "from sklearn.model_selection import GridSearchCV\n",
    "from sklearn.feature_selection import SelectKBest\n",
    "from sklearn.feature_selection import mutual_info_classif\n",
    "from sklearn.feature_extraction.text import TfidfVectorizer\n",
    "from sklearn.model_selection import cross_val_score\n",
    "from sklearn.model_selection import StratifiedKFold\n",
    "from sklearn.feature_selection import RFECV\n",
    "from sklearn.ensemble import AdaBoostClassifier\n",
    "\n",
    "from scipy import sparse\n",
    "from scipy.sparse import hstack"
   ]
  },
  {
   "cell_type": "code",
   "execution_count": 2,
   "metadata": {},
   "outputs": [
    {
     "name": "stdout",
     "output_type": "stream",
     "text": [
      "(49159, 3)\n",
      "13.256021409455842\n"
     ]
    }
   ],
   "source": [
    "#Loading the data\n",
    "train = pd.read_csv('Data\\\\train_E6oV3lV.csv',\n",
    "                   sep = ',',\n",
    "                   header = 0)\n",
    "\n",
    "toTrain = pd.read_csv('Data\\\\test_tweets_anuFYb8.csv',\n",
    "                   sep = ',',\n",
    "                   header = 0)\n",
    "\n",
    "toTrain['label'] = None\n",
    "\n",
    "wholeData = pd.concat([train, toTrain], ignore_index=True, sort = True)\n",
    "print(wholeData.shape)\n",
    "\n",
    "\n",
    "# check data integrity\n",
    "labels = wholeData['label'].values\n",
    "labelCount = train['label'].value_counts()\n",
    "balance = labelCount[0] / labelCount[1]\n",
    "print(balance) # Require some balancing in the data\n"
   ]
  },
  {
   "cell_type": "code",
   "execution_count": 3,
   "metadata": {},
   "outputs": [],
   "source": [
    "#Creating samples\n",
    "indexTrain = list(range(train.shape[0]))\n",
    "indexToTrain = np.sort(np.array(list((set(wholeData.index.values) - set(indexTrain)))))\n",
    "\n",
    "sampleTrain = np.random.choice(indexTrain, size=int(float(len(indexTrain)) * 0.7), replace = False)\n",
    "sampleTest =  np.sort(np.array(list((set(indexTrain) - set(sampleTrain)))))\n",
    "\n",
    "reduced = np.random.choice(np.array(list(set(train[\"id\"][(labels[indexTrain] == 0)].index.values) - set(sampleTest))), sum(labels[sampleTrain] == 1))\n",
    "sampleTrainBal = np.append(reduced, np.array(list(set(train[\"id\"][(labels[indexTrain] == 1)].index.values) - set(sampleTest))))\n"
   ]
  },
  {
   "cell_type": "code",
   "execution_count": 4,
   "metadata": {},
   "outputs": [],
   "source": [
    "# Functionality functions\n",
    "\n",
    "# Use a classifier to predict, dispay performances and return f1 score.\n",
    "def predict_and_score(cls, data, lbs, name = None, ids = None, silent = False):\n",
    "    pred = cls.predict(data)\n",
    "\n",
    "    lbs = lbs.astype(int)\n",
    "    # print(cls.score(data, lbs))\n",
    "    \n",
    "    f1_score = sklearn.metrics.f1_score(lbs, pred)\n",
    "    if not silent:\n",
    "        print(sklearn.metrics.f1_score(lbs, pred))\n",
    "        print(sklearn.metrics.confusion_matrix(lbs, pred))\n",
    "        print(sklearn.metrics.classification_report(lbs, pred))\n",
    "    return f1_score\n",
    "\n",
    "# Use a classifier to predict and write prediction in a file.\n",
    "def predict_and_save(cls, data, name, ids = None):\n",
    "    pred = cls.predict(data)\n",
    "    df = pd.DataFrame({'id': ids, 'label': pred})\n",
    "    df.to_csv(name, sep = ',', index = False)\n",
    "    return(\"File {0} saved.\".format(name))\n",
    "\n",
    "\n",
    "# stem words in a setence\n",
    "def cleanSentence(s, stops):\n",
    "    st = LancasterStemmer()\n",
    "    lem = WordNetLemmatizer()\n",
    "    words = []\n",
    "    for w in word_tokenize(s):\n",
    "        if (w not in stops):\n",
    "            #words.append(st.stem(w))\n",
    "            words.append(lem.lemmatize(w))\n",
    "    return(\" \".join(words))\n",
    "\n",
    "#extract emtion from a sentence based on the given lexicon\n",
    "def extractEmotion(s, lex):\n",
    "    inter = set(s.split()).intersection(lex.index)\n",
    "    return lex.loc[inter, :].mean(axis = 0)\n",
    "\n",
    "# 2 rounds model\n",
    "def predict_ambiguous(cls1, cls2, data, data2= None, group = 1):\n",
    "    pred1 = cls1.predict(data)\n",
    "    if data2 is None:\n",
    "        pred2 = cls2.predict(data[pred1 == group])\n",
    "    else:\n",
    "        pred2 = cls2.predict(data2[pred1 == group])\n",
    "    pred1[pred1 == group] = pred2\n",
    "    return pred1"
   ]
  },
  {
   "cell_type": "markdown",
   "metadata": {},
   "source": [
    "From here, I will try to keep the code cells independent.\n",
    "Please run the cells above if you have not. They prepare the data to be used in the following cells."
   ]
  },
  {
   "cell_type": "code",
   "execution_count": 5,
   "metadata": {},
   "outputs": [
    {
     "name": "stdout",
     "output_type": "stream",
     "text": [
      "Train data\n",
      "0.6425263157894737\n",
      "[[20761    46]\n",
      " [  803   763]]\n",
      "             precision    recall  f1-score   support\n",
      "\n",
      "          0       0.96      1.00      0.98     20807\n",
      "          1       0.94      0.49      0.64      1566\n",
      "\n",
      "avg / total       0.96      0.96      0.96     22373\n",
      "\n",
      "Test data\n",
      "0.49442379182156143\n",
      "[[8779  134]\n",
      " [ 410  266]]\n",
      "             precision    recall  f1-score   support\n",
      "\n",
      "          0       0.96      0.98      0.97      8913\n",
      "          1       0.67      0.39      0.49       676\n",
      "\n",
      "avg / total       0.93      0.94      0.94      9589\n",
      "\n",
      "Training new data\n",
      "Train data\n",
      "0.9656476520642926\n",
      "[[1491   75]\n",
      " [  34 1532]]\n",
      "             precision    recall  f1-score   support\n",
      "\n",
      "          0       0.98      0.95      0.96      1566\n",
      "          1       0.95      0.98      0.97      1566\n",
      "\n",
      "avg / total       0.97      0.97      0.97      3132\n",
      "\n",
      "Test data\n",
      "0.42573913043478256\n",
      "[[7326 1587]\n",
      " [  64  612]]\n",
      "             precision    recall  f1-score   support\n",
      "\n",
      "          0       0.99      0.82      0.90      8913\n",
      "          1       0.28      0.91      0.43       676\n",
      "\n",
      "avg / total       0.94      0.83      0.87      9589\n",
      "\n",
      "Training new data\n"
     ]
    },
    {
     "data": {
      "text/plain": [
       "'File NB1_balanced.csv saved.'"
      ]
     },
     "execution_count": 5,
     "metadata": {},
     "output_type": "execute_result"
    }
   ],
   "source": [
    "# First rough approach\n",
    "data1 = wholeData.copy()\n",
    "\n",
    "# Data cleaning\n",
    "# punctRE = re.compile(\"[a-zA-Z]+\" \" \")\n",
    "#data1[\"tweet\"] = data1[\"tweet\"].apply(lambda x: \"\".join(re.findall(punctRE, x)))\n",
    "\n",
    "data1[\"tweet\"] = data1[\"tweet\"].apply(lambda x: re.sub(\"@[\\w]*|[^a-zA-Z ]+\", '', x))\n",
    "\n",
    "# vectorise and classify\n",
    "vectoriser = CountVectorizer()\n",
    "data1V = vectoriser.fit_transform(data1[\"tweet\"])\n",
    "\n",
    "# umbalanced\n",
    "classifier1 = MultinomialNB()\n",
    "classifier1.fit(data1V[sampleTrain], labels[sampleTrain].astype(int))\n",
    "\n",
    "print('Train data')\n",
    "predict_and_score(classifier1, data1V[sampleTrain],  labels[sampleTrain])\n",
    "print('Test data')\n",
    "predict_and_score(classifier1, data1V[sampleTest], labels[sampleTest])\n",
    "\n",
    "print('Training new data')\n",
    "predict_and_save(classifier1, data1V[indexToTrain], \"NB1_umbalanced.csv\", wholeData.iloc[indexToTrain,:]['id'])\n",
    "\n",
    "\n",
    "# balanced\n",
    "classifier1 = MultinomialNB()\n",
    "classifier1.fit(data1V[sampleTrainBal], labels[sampleTrainBal].astype(int))\n",
    "\n",
    "print('Train data')\n",
    "predict_and_score(classifier1, data1V[sampleTrainBal],  labels[sampleTrainBal])\n",
    "print('Test data')\n",
    "predict_and_score(classifier1, data1V[sampleTest], labels[sampleTest])\n",
    "\n",
    "classifier1.fit(data1V[sampleTrainBal], labels[sampleTrainBal].astype(int))\n",
    "print('Training new data')\n",
    "predict_and_save(classifier1, data1V[indexToTrain], \"NB1_balanced.csv\", wholeData.iloc[indexToTrain,:]['id'])"
   ]
  },
  {
   "cell_type": "markdown",
   "metadata": {},
   "source": [
    "Trying to improve the current model by taking advantage text specific functions."
   ]
  },
  {
   "cell_type": "code",
   "execution_count": 6,
   "metadata": {},
   "outputs": [],
   "source": [
    "data2 = wholeData.copy()\n",
    "\n",
    "## removing @mentions and punctuation\n",
    "data2[\"tweet\"] = data2[\"tweet\"].apply(lambda x: re.sub(\"@[\\w]*|[^a-zA-Z ]+\", '', x))\n",
    "\n",
    "#print(data[\"tweet\"])\n",
    "stop_words = set(stopwords.words('english'))\n",
    "data2[\"tweet\"] = data2[\"tweet\"].apply(lambda x: cleanSentence(x, stop_words))\n",
    "##/!\\ stemming might be a bit long\n"
   ]
  },
  {
   "cell_type": "code",
   "execution_count": 7,
   "metadata": {},
   "outputs": [
    {
     "name": "stdout",
     "output_type": "stream",
     "text": [
      "1.0\n",
      "Train data\n",
      "0.9686700767263429\n",
      "[[1519   47]\n",
      " [  51 1515]]\n",
      "             precision    recall  f1-score   support\n",
      "\n",
      "          0       0.97      0.97      0.97      1566\n",
      "          1       0.97      0.97      0.97      1566\n",
      "\n",
      "avg / total       0.97      0.97      0.97      3132\n",
      "\n",
      "Test data\n",
      "0.4561270801815431\n",
      "[[7548 1365]\n",
      " [  73  603]]\n",
      "             precision    recall  f1-score   support\n",
      "\n",
      "          0       0.99      0.85      0.91      8913\n",
      "          1       0.31      0.89      0.46       676\n",
      "\n",
      "avg / total       0.94      0.85      0.88      9589\n",
      "\n",
      "Training new data\n"
     ]
    },
    {
     "data": {
      "text/plain": [
       "'File NB_stem_balanced.csv saved.'"
      ]
     },
     "execution_count": 7,
     "metadata": {},
     "output_type": "execute_result"
    }
   ],
   "source": [
    "\n",
    "# vectorise and classify\n",
    "vectoriser = CountVectorizer()\n",
    "data2V = vectoriser.fit_transform(data2[\"tweet\"])\n",
    "# balanced\n",
    "classifier2 = MultinomialNB()\n",
    "classifier2.fit(data2V[sampleTrainBal], labels[sampleTrainBal].astype(int))\n",
    "\n",
    "# check data integrity\n",
    "labelCount = wholeData['label'][sampleTrainBal].value_counts()\n",
    "balance = labelCount[0] / labelCount[1]\n",
    "print(balance)\n",
    "\n",
    "print('Train data')\n",
    "predict_and_score(classifier2, data2V[sampleTrainBal],  labels[sampleTrainBal])\n",
    "print('Test data')\n",
    "predict_and_score(classifier2, data2V[sampleTest], labels[sampleTest])\n",
    "\n",
    "print('Training new data')\n",
    "predict_and_save(classifier2, data2V[indexToTrain], \"NB_stem_balanced.csv\", wholeData.iloc[indexToTrain,:]['id'])\n"
   ]
  },
  {
   "cell_type": "code",
   "execution_count": 8,
   "metadata": {},
   "outputs": [
    {
     "data": {
      "image/png": "[encoded data removed]",
      "text/plain": [
       "<Figure size 432x288 with 1 Axes>"
      ]
     },
     "metadata": {},
     "output_type": "display_data"
    }
   ],
   "source": [
    "# To overcome the overfitting, the sampling can be adjusted:\n",
    "# Because the data is unbalanced, the proportion classes play a large role.\n",
    "# \"Cross validation type of approach\" can help determine the best proportion to use to both limit over-fiting and improve performances\n",
    "ratios = [0.5, 1, 2, 3, 4, 5, 6, 8, 10]\n",
    "scoresf1 = [0] * len(ratios)\n",
    "i = 0\n",
    "for ratio in ratios:\n",
    "    scoref1 = [0] * 10\n",
    "    for j in range(10):\n",
    "        trainPos = sampleTrain[labels[sampleTrain] == 1]\n",
    "        trainNeg = sampleTrain[labels[sampleTrain] == 0]\n",
    "\n",
    "        dataNeg = np.random.choice(trainNeg, size= round(ratio * len(trainPos)), replace = False)\n",
    "        dataCV = data2V[np.concatenate((trainPos, dataNeg), 0)]\n",
    "        clf = MultinomialNB()\n",
    "        clf.fit(dataCV, labels[np.concatenate((trainPos, dataNeg), axis = 0)].astype(int))\n",
    "        # f1s = cross_val_score(clf, dataCV, labels[np.concatenate((trainPos, dataNeg), axis = 0)].astype(int), cv=5)\n",
    "        scoref1[j] =  predict_and_score(clf, data2V[sampleTest], labels[sampleTest].astype(int), silent = True)\n",
    "    scoresf1[i] = np.mean(scoref1)\n",
    "    i += 1\n",
    "    \n",
    "\n",
    "plt.figure()\n",
    "plt.xlabel(\"ratio between pnon-hateful and hateful tweets\")\n",
    "plt.ylabel(\"F1 scores on the test data\")\n",
    "plt.plot(ratios, scoresf1)\n",
    "plt.show();\n",
    "\n",
    "\n",
    "\n",
    "dataNeg = np.random.choice(trainNeg, size= round(3 * len(trainPos)), replace = False)\n",
    "newTrainBal = np.concatenate((trainPos, dataNeg), 0)"
   ]
  },
  {
   "cell_type": "code",
   "execution_count": 9,
   "metadata": {},
   "outputs": [
    {
     "name": "stdout",
     "output_type": "stream",
     "text": [
      "3.0\n",
      "Train data\n",
      "0.8880335899230231\n",
      "[[4675   23]\n",
      " [ 297 1269]]\n",
      "             precision    recall  f1-score   support\n",
      "\n",
      "          0       0.94      1.00      0.97      4698\n",
      "          1       0.98      0.81      0.89      1566\n",
      "\n",
      "avg / total       0.95      0.95      0.95      6264\n",
      "\n",
      "Test data\n",
      "0.6490842490842491\n",
      "[[8667  246]\n",
      " [ 233  443]]\n",
      "             precision    recall  f1-score   support\n",
      "\n",
      "          0       0.97      0.97      0.97      8913\n",
      "          1       0.64      0.66      0.65       676\n",
      "\n",
      "avg / total       0.95      0.95      0.95      9589\n",
      "\n",
      "Training new data\n"
     ]
    },
    {
     "data": {
      "text/plain": [
       "'File NB_stem_balanced_ratio3.csv saved.'"
      ]
     },
     "execution_count": 9,
     "metadata": {},
     "output_type": "execute_result"
    }
   ],
   "source": [
    "#retrain the model with a new sampling: newTrainBal\n",
    "classifier2 = MultinomialNB()\n",
    "classifier2.fit(data2V[newTrainBal], labels[newTrainBal].astype(int))\n",
    "\n",
    "# check data integrity\n",
    "labelCount = wholeData['label'][newTrainBal].value_counts()\n",
    "balance = labelCount[0] / labelCount[1]\n",
    "print(balance)\n",
    "\n",
    "print('Train data')\n",
    "predict_and_score(classifier2, data2V[newTrainBal],  labels[newTrainBal])\n",
    "print('Test data')\n",
    "predict_and_score(classifier2, data2V[sampleTest], labels[sampleTest])\n",
    "\n",
    "print('Training new data')\n",
    "predict_and_save(classifier2, data2V[indexToTrain], \"NB_stem_balanced_ratio3.csv\", wholeData.iloc[indexToTrain,:]['id'])\n"
   ]
  },
  {
   "cell_type": "code",
   "execution_count": 10,
   "metadata": {},
   "outputs": [
    {
     "name": "stdout",
     "output_type": "stream",
     "text": [
      "Train data\n",
      "0.9993610223642173\n",
      "[[1566    0]\n",
      " [   2 1564]]\n",
      "             precision    recall  f1-score   support\n",
      "\n",
      "          0       1.00      1.00      1.00      1566\n",
      "          1       1.00      1.00      1.00      1566\n",
      "\n",
      "avg / total       1.00      1.00      1.00      3132\n",
      "\n",
      "Test data\n",
      "0.4696591853699086\n",
      "[[7748 1165]\n",
      " [ 111  565]]\n",
      "             precision    recall  f1-score   support\n",
      "\n",
      "          0       0.99      0.87      0.92      8913\n",
      "          1       0.33      0.84      0.47       676\n",
      "\n",
      "avg / total       0.94      0.87      0.89      9589\n",
      "\n",
      "Training new data\n",
      "Train data\n",
      "0.9993610223642173\n",
      "[[4698    0]\n",
      " [   2 1564]]\n",
      "             precision    recall  f1-score   support\n",
      "\n",
      "          0       1.00      1.00      1.00      4698\n",
      "          1       1.00      1.00      1.00      1566\n",
      "\n",
      "avg / total       1.00      1.00      1.00      6264\n",
      "\n",
      "Test data\n",
      "0.6521443158611301\n",
      "[[8599  314]\n",
      " [ 197  479]]\n",
      "             precision    recall  f1-score   support\n",
      "\n",
      "          0       0.98      0.96      0.97      8913\n",
      "          1       0.60      0.71      0.65       676\n",
      "\n",
      "avg / total       0.95      0.95      0.95      9589\n",
      "\n",
      "Training new data\n"
     ]
    },
    {
     "data": {
      "text/plain": [
       "'File RF100_stem_balanced_new_sample.csv saved.'"
      ]
     },
     "execution_count": 10,
     "metadata": {},
     "output_type": "execute_result"
    }
   ],
   "source": [
    "# use alternative algorithms on stemmed data\n",
    "classifier3 = RandomForestClassifier(n_estimators = 100)\n",
    "\n",
    "classifier3.fit(data2V[sampleTrainBal], labels[sampleTrainBal].astype(int))\n",
    "\n",
    "print('Train data')\n",
    "predict_and_score(classifier3, data2V[sampleTrainBal],  labels[sampleTrainBal])\n",
    "print('Test data')\n",
    "predict_and_score(classifier3, data2V[sampleTest], labels[sampleTest])\n",
    "\n",
    "print('Training new data')\n",
    "predict_and_save(classifier3, data2V[indexToTrain], \"RF100_stem_balanced.csv\", wholeData.iloc[indexToTrain,:]['id'])\n",
    "\n",
    "classifier3 = RandomForestClassifier(n_estimators = 100)\n",
    "\n",
    "classifier3.fit(data2V[newTrainBal], labels[newTrainBal].astype(int))\n",
    "\n",
    "print('Train data')\n",
    "predict_and_score(classifier3, data2V[newTrainBal],  labels[newTrainBal])\n",
    "print('Test data')\n",
    "predict_and_score(classifier3, data2V[sampleTest], labels[sampleTest])\n",
    "\n",
    "print('Training new data')\n",
    "predict_and_save(classifier3, data2V[indexToTrain], \"RF100_stem_balanced_new_sample.csv\", wholeData.iloc[indexToTrain,:]['id'])\n"
   ]
  },
  {
   "cell_type": "code",
   "execution_count": 11,
   "metadata": {},
   "outputs": [
    {
     "name": "stdout",
     "output_type": "stream",
     "text": [
      "{'criterion': 'gini', 'max_depth': 8, 'max_features': 0.3, 'n_estimators': 10}\n",
      "Train data\n",
      "0.4737845567206863\n",
      "[[4663   35]\n",
      " [1069  497]]\n",
      "             precision    recall  f1-score   support\n",
      "\n",
      "          0       0.81      0.99      0.89      4698\n",
      "          1       0.93      0.32      0.47      1566\n",
      "\n",
      "avg / total       0.84      0.82      0.79      6264\n",
      "\n",
      "Test data\n",
      "0.41212121212121205\n",
      "[[8803  110]\n",
      " [ 472  204]]\n",
      "             precision    recall  f1-score   support\n",
      "\n",
      "          0       0.95      0.99      0.97      8913\n",
      "          1       0.65      0.30      0.41       676\n",
      "\n",
      "avg / total       0.93      0.94      0.93      9589\n",
      "\n",
      "Training new data\n"
     ]
    },
    {
     "data": {
      "text/plain": [
       "'File RF_paramCV_stem_balanced.csv saved.'"
      ]
     },
     "execution_count": 11,
     "metadata": {},
     "output_type": "execute_result"
    }
   ],
   "source": [
    "#Try to improve the RF hyperparameters to avoid overfitting\n",
    "classifier4 = RandomForestClassifier(random_state=42)\n",
    "\n",
    "param_grid = { \n",
    "    'n_estimators': [ 10, 20, 100, 200, 500],\n",
    "    'max_features': [0.3, 'auto', 'log2'],\n",
    "    'max_depth' :  [5, 6, 7, 8],\n",
    "    'criterion' :['gini', 'entropy']\n",
    "}\n",
    "\n",
    "classifier4CV = GridSearchCV(estimator = classifier4, param_grid = param_grid, cv= 3)\n",
    "# {'criterion': 'gini', 'max_depth': 8, 'max_features': None, 'n_estimators': 200}\n",
    "classifier4CV.fit(data2V[newTrainBal], labels[newTrainBal].astype(int))\n",
    "print(classifier4CV.best_params_)\n",
    "\n",
    "print('Train data')\n",
    "predict_and_score(classifier4CV, data2V[newTrainBal],  labels[newTrainBal])\n",
    "print('Test data')\n",
    "predict_and_score(classifier4CV, data2V[sampleTest], labels[sampleTest])\n",
    "\n",
    "print('Training new data')\n",
    "predict_and_save(classifier4CV, data2V[indexToTrain], \"RF_paramCV_stem_balanced.csv\", wholeData.iloc[indexToTrain,:]['id'])\n"
   ]
  },
  {
   "cell_type": "code",
   "execution_count": 12,
   "metadata": {},
   "outputs": [
    {
     "data": {
      "image/png": "[encoded data removed]",
      "text/plain": [
       "<Figure size 432x288 with 1 Axes>"
      ]
     },
     "metadata": {},
     "output_type": "display_data"
    }
   ],
   "source": [
    "# new approach based on lexicon\n",
    "data3 = wholeData.copy()\n",
    "# Lexicons\n",
    "\n",
    "# Emoticon lexicon\n",
    "# need the raw data to identify emoticons\n",
    "emoLexi = pd.read_csv('Data\\\\EmoticonSentimentLexicon.txt',\n",
    "                   sep = '\\t',\n",
    "                   header = 0)\n",
    "\n",
    "data3[\"emoScore\"] = 0\n",
    "data3[\"emoNb\"] = 0\n",
    "\n",
    "for emoIndex in range(0,emoLexi.shape[0]):\n",
    "    emo = emoLexi.iloc[emoIndex, 0]\n",
    "    data3[\"emoScore\"] = data3[\"emoScore\"] + data3[\"tweet\"].apply(lambda x: float(x.count(emo)) * float(emoLexi.iloc[emoIndex, 1]))\n",
    "    data3[\"emoNb\"] = data3[\"emoNb\"] + data3[\"tweet\"].apply(lambda x: x.count(emo))\n",
    "    \n",
    "plt.figure()\n",
    "plt.hist(data3[\"emoScore\"])\n",
    "plt.show()\n",
    "\n",
    "# Hastag lexicon\n",
    "lexicon = pd.read_csv('Data\\\\NRC-Hashtag-Emotion-Lexicon-v0.2.txt',\n",
    "                   sep = '\\t',\n",
    "                   header = 0,\n",
    "                     names = ['emotion', 'tag', 'score'])\n",
    "\n",
    "lexicon['tag'] = lexicon['tag'].apply(lambda x: re.sub('\\#', '', str(x)))  #removing hastag symbol allow more matches during the search, but also may lead ton aggregation during pivot\n",
    "\n",
    "# stemming to better generalisation\n",
    "# lexicon['tag'] = lexicon['tag'].apply(lambda x: st.stem(x))\n",
    "lex2 = lexicon.pivot_table(index = 'tag', columns = 'emotion', values = 'score') #default aggregation : numpy.mean, works here\n",
    "\n",
    "# Counting and stemming\n",
    "## Counting hastags and punctuation\n",
    "data3[\"exclamation\"] = data3[\"tweet\"].apply(lambda x: len(re.findall(\"!\", x)))\n",
    "data3[\"tags\"] = data3[\"tweet\"].apply(lambda x: len(re.findall(\"#\", x)))\n",
    "data3[\"len\"] = data3[\"tweet\"].apply(len)\n",
    "\n",
    "## removing @mentions and punctuation\n",
    "data3[\"tweet\"] = data3[\"tweet\"].apply(lambda x: re.sub(\"@[\\w]*|[^a-zA-Z ]+\", '', x))\n",
    "\n",
    "data4 = data3['tweet'][:].apply(lambda x: extractEmotion(x, lex2))\n",
    "data4 = pd.concat([data4, data3[[\"exclamation\",\"tags\",\"len\", \"emoScore\", \"emoNb\"]]], axis = 1)"
   ]
  },
  {
   "cell_type": "code",
   "execution_count": 13,
   "metadata": {
    "scrolled": false
   },
   "outputs": [
    {
     "ename": "NameError",
     "evalue": "name 'labels2' is not defined",
     "output_type": "error",
     "traceback": [
      "\u001b[1;31m---------------------------------------------------------------------------\u001b[0m",
      "\u001b[1;31mNameError\u001b[0m                                 Traceback (most recent call last)",
      "\u001b[1;32m<ipython-input-13-fd6e4e2e81c4>\u001b[0m in \u001b[0;36m<module>\u001b[1;34m()\u001b[0m\n\u001b[0;32m      1\u001b[0m \u001b[1;31m# plotting emotions in the different classes to see if some patterns emerge\u001b[0m\u001b[1;33m\u001b[0m\u001b[1;33m\u001b[0m\u001b[0m\n\u001b[0;32m      2\u001b[0m \u001b[1;33m\u001b[0m\u001b[0m\n\u001b[1;32m----> 3\u001b[1;33m \u001b[0mlabels2\u001b[0m \u001b[1;33m=\u001b[0m \u001b[1;33m[\u001b[0m\u001b[1;33m-\u001b[0m\u001b[1;36m1\u001b[0m  \u001b[1;32mif\u001b[0m \u001b[0mstr\u001b[0m\u001b[1;33m(\u001b[0m\u001b[0mx\u001b[0m\u001b[1;33m)\u001b[0m \u001b[1;33m==\u001b[0m \u001b[1;34m'None'\u001b[0m \u001b[1;32melse\u001b[0m \u001b[0mx\u001b[0m \u001b[1;32mfor\u001b[0m \u001b[0mx\u001b[0m \u001b[1;32min\u001b[0m \u001b[0mlabels2\u001b[0m\u001b[1;33m]\u001b[0m\u001b[1;33m\u001b[0m\u001b[0m\n\u001b[0m\u001b[0;32m      4\u001b[0m \u001b[0mdf\u001b[0m \u001b[1;33m=\u001b[0m  \u001b[0mpd\u001b[0m\u001b[1;33m.\u001b[0m\u001b[0mconcat\u001b[0m\u001b[1;33m(\u001b[0m\u001b[1;33m[\u001b[0m\u001b[0mdata4\u001b[0m\u001b[1;33m[\u001b[0m\u001b[1;33m[\u001b[0m\u001b[1;34m\"anger\"\u001b[0m\u001b[1;33m,\u001b[0m \u001b[1;34m\"anticipation\"\u001b[0m\u001b[1;33m,\u001b[0m \u001b[1;34m\"disgust\"\u001b[0m\u001b[1;33m,\u001b[0m \u001b[1;34m\"fear\"\u001b[0m\u001b[1;33m,\u001b[0m \u001b[1;34m\"joy\"\u001b[0m\u001b[1;33m,\u001b[0m \u001b[1;34m\"sadness\"\u001b[0m\u001b[1;33m,\u001b[0m \u001b[1;34m\"surprise\"\u001b[0m\u001b[1;33m,\u001b[0m \u001b[1;34m\"trust\"\u001b[0m\u001b[1;33m]\u001b[0m\u001b[1;33m]\u001b[0m\u001b[1;33m.\u001b[0m\u001b[0mfillna\u001b[0m\u001b[1;33m(\u001b[0m\u001b[1;36m0\u001b[0m\u001b[1;33m)\u001b[0m\u001b[1;33m,\u001b[0m \u001b[0mpd\u001b[0m\u001b[1;33m.\u001b[0m\u001b[0mDataFrame\u001b[0m\u001b[1;33m(\u001b[0m\u001b[0mlabels2\u001b[0m\u001b[1;33m,\u001b[0m \u001b[0mcolumns\u001b[0m\u001b[1;33m=\u001b[0m\u001b[1;33m[\u001b[0m\u001b[1;34m\"label\"\u001b[0m\u001b[1;33m]\u001b[0m\u001b[1;33m)\u001b[0m\u001b[1;33m]\u001b[0m \u001b[1;33m,\u001b[0m \u001b[0maxis\u001b[0m \u001b[1;33m=\u001b[0m \u001b[1;36m1\u001b[0m\u001b[1;33m)\u001b[0m\u001b[1;33m\u001b[0m\u001b[0m\n\u001b[0;32m      5\u001b[0m \u001b[1;33m\u001b[0m\u001b[0m\n",
      "\u001b[1;31mNameError\u001b[0m: name 'labels2' is not defined"
     ]
    }
   ],
   "source": [
    "# plotting emotions in the different classes to see if some patterns emerge\n",
    "labels2 = labels.copy()\n",
    "labels2 = [-1  if str(x) == 'None' else x for x in labels2]\n",
    "df =  pd.concat([data4[[\"anger\", \"anticipation\", \"disgust\", \"fear\", \"joy\", \"sadness\", \"surprise\", \"trust\"]].fillna(0), pd.DataFrame(labels2, columns=[\"label\"])] , axis = 1)\n",
    "\n",
    "plt.figure()\n",
    "sns.pairplot(df.iloc[sampleTrainBal,:], vars= [\"anger\", \"disgust\",  \"joy\", \"trust\"],hue = \"label\", markers=\"+\",diag_kind=\"kde\")\n",
    "plt.show();\n"
   ]
  },
  {
   "cell_type": "code",
   "execution_count": 15,
   "metadata": {},
   "outputs": [
    {
     "name": "stdout",
     "output_type": "stream",
     "text": [
      "Train data\n",
      "1.0\n",
      "[[1566    0]\n",
      " [   0 1566]]\n",
      "             precision    recall  f1-score   support\n",
      "\n",
      "          0       1.00      1.00      1.00      1566\n",
      "          1       1.00      1.00      1.00      1566\n",
      "\n",
      "avg / total       1.00      1.00      1.00      3132\n",
      "\n",
      "Test data\n",
      "0.29329090426942456\n",
      "[[6371 2542]\n",
      " [ 123  553]]\n",
      "             precision    recall  f1-score   support\n",
      "\n",
      "          0       0.98      0.71      0.83      8913\n",
      "          1       0.18      0.82      0.29       676\n",
      "\n",
      "avg / total       0.92      0.72      0.79      9589\n",
      "\n",
      "Training new data\n"
     ]
    },
    {
     "data": {
      "text/plain": [
       "'File NB_emolexicon.csv saved.'"
      ]
     },
     "execution_count": 15,
     "metadata": {},
     "output_type": "execute_result"
    }
   ],
   "source": [
    "#print(data4full)\n",
    "classifier6 = RandomForestClassifier(n_estimators = 100)\n",
    "#classifier6 = MultinomialNB()\n",
    "\n",
    "data44 = sparse.csr_matrix(np.nan_to_num(np.matrix(data4)))\n",
    "classifier6.fit(data44[sampleTrainBal], labels[sampleTrainBal].astype(int))\n",
    "    \n",
    "print('Train data')\n",
    "predict_and_score(classifier6, data44[sampleTrainBal],  labels[sampleTrainBal])\n",
    "print('Test data')\n",
    "predict_and_score(classifier6,data44[sampleTest], labels[sampleTest])\n",
    "\n",
    "print('Training new data')\n",
    "predict_and_save(classifier6, data44[indexToTrain], \"NB_emolexicon.csv\", wholeData.iloc[indexToTrain,:]['id'])\n",
    "# 0.342581423401689"
   ]
  },
  {
   "cell_type": "markdown",
   "metadata": {},
   "source": [
    "A 2 round approach is designed to fight the 2 type error trade-off"
   ]
  },
  {
   "cell_type": "code",
   "execution_count": 17,
   "metadata": {},
   "outputs": [
    {
     "name": "stdout",
     "output_type": "stream",
     "text": [
      "Train data\n",
      "1 classifier\n",
      "0.9980818414322251\n",
      "             precision    recall  f1-score   support\n",
      "\n",
      "          0       1.00      1.00      1.00     20807\n",
      "          1       1.00      1.00      1.00      1566\n",
      "\n",
      "avg / total       1.00      1.00      1.00     22373\n",
      "\n",
      "[[20806     1]\n",
      " [    5  1561]]\n",
      "2 classifiers\n",
      "0.9980818414322251\n",
      "             precision    recall  f1-score   support\n",
      "\n",
      "          0       1.00      1.00      1.00     20807\n",
      "          1       1.00      1.00      1.00      1566\n",
      "\n",
      "avg / total       1.00      1.00      1.00     22373\n",
      "\n",
      "[[20806     1]\n",
      " [    5  1561]]\n",
      "Test data\n",
      "1 classifier\n",
      "0.9985185185185186\n",
      "             precision    recall  f1-score   support\n",
      "\n",
      "          0       1.00      1.00      1.00      8913\n",
      "          1       1.00      1.00      1.00       676\n",
      "\n",
      "avg / total       1.00      1.00      1.00      9589\n",
      "\n",
      "[[8913    0]\n",
      " [   2  674]]\n",
      "2 classifiers\n",
      "0.9985185185185186\n",
      "             precision    recall  f1-score   support\n",
      "\n",
      "          0       1.00      1.00      1.00      8913\n",
      "          1       1.00      1.00      1.00       676\n",
      "\n",
      "avg / total       1.00      1.00      1.00      9589\n",
      "\n",
      "[[8913    0]\n",
      " [   2  674]]\n",
      "saving submission\n"
     ]
    }
   ],
   "source": [
    "# train model on word data:\n",
    "classifier21 = RandomForestClassifier(n_estimators = 100)\n",
    "classifier21.fit(data2V[indexTrain], labels[indexTrain].astype(int))\n",
    "prediction1 = classifier21.predict(data2V[sampleTrain])\n",
    "# selection of ambiguous terms:\n",
    "newTrain = sampleTrain[prediction1 == 0]\n",
    "# train a new model with lexicon data to deal with ambiguous data\n",
    "classifier22 = RandomForestClassifier(n_estimators = 100)\n",
    "# classifier22 = MultinomialNB()\n",
    "classifier22.fit(data2V[newTrain], labels[newTrain].astype(int))\n",
    "\n",
    "predAmbiTr = predict_ambiguous(classifier21, classifier22, data2V[sampleTrain], data2V[sampleTrain], 0)\n",
    "print(\"Train data\")\n",
    "print(\"1 classifier\")\n",
    "print(sklearn.metrics.f1_score(labels[sampleTrain].astype(int), classifier21.predict(data2V[sampleTrain])))\n",
    "print(sklearn.metrics.classification_report(labels[sampleTrain].astype(int), classifier21.predict(data2V[sampleTrain])))\n",
    "print(sklearn.metrics.confusion_matrix(labels[sampleTrain].astype(int), classifier21.predict(data2V[sampleTrain])))\n",
    "print(\"2 classifiers\")\n",
    "print(sklearn.metrics.f1_score(labels[sampleTrain].astype(int), predAmbiTr))\n",
    "print(sklearn.metrics.classification_report(labels[sampleTrain].astype(int), predAmbiTr))\n",
    "print(sklearn.metrics.confusion_matrix(labels[sampleTrain].astype(int), predAmbiTr))\n",
    "\n",
    "print(\"Test data\")\n",
    "predAmbi = predict_ambiguous(classifier21, classifier22, data2V[sampleTest], data2V[sampleTest], 0)\n",
    "print(\"1 classifier\")\n",
    "print(sklearn.metrics.f1_score(labels[sampleTest].astype(int), classifier21.predict(data2V[sampleTest])))\n",
    "print(sklearn.metrics.classification_report(labels[sampleTest].astype(int), classifier21.predict(data2V[sampleTest])))\n",
    "print(sklearn.metrics.confusion_matrix(labels[sampleTest].astype(int), classifier21.predict(data2V[sampleTest])))\n",
    "print(\"2 classifiers\")\n",
    "print(sklearn.metrics.f1_score(labels[sampleTest].astype(int), predAmbi))\n",
    "print(sklearn.metrics.classification_report(labels[sampleTest].astype(int), predAmbi))\n",
    "print(sklearn.metrics.confusion_matrix(labels[sampleTest].astype(int), predAmbi))\n",
    "\n",
    "print('saving submission')\n",
    "name = \"2_round_classification_RF_RF_indexTrain_and_full_train_sampling.csv\"\n",
    "ids =  wholeData.iloc[indexToTrain,:]['id']\n",
    "pred = predict_ambiguous(classifier21, classifier22, data2V[indexToTrain], data2V[indexToTrain], 0)\n",
    "df = pd.DataFrame({'id': ids, 'label': pred})\n",
    "df.to_csv(name, sep = ',', index = False)"
   ]
  },
  {
   "cell_type": "markdown",
   "metadata": {},
   "source": [
    "This last solution is the best prediction that was made by the various methods tested. While many otehr approaches could be tested, this hybrid approach decomposing the problem provides a relatively good f1-score of 0.70. \n",
    "Please see the associated report for more discussion on the approach and results."
   ]
  },
  {
   "cell_type": "code",
   "execution_count": null,
   "metadata": {},
   "outputs": [],
   "source": []
  }
 ],
 "metadata": {
  "kernelspec": {
   "display_name": "Python 3",
   "language": "python",
   "name": "python3"
  },
  "language_info": {
   "codemirror_mode": {
    "name": "ipython",
    "version": 3
   },
   "file_extension": ".py",
   "mimetype": "text/x-python",
   "name": "python",
   "nbconvert_exporter": "python",
   "pygments_lexer": "ipython3",
   "version": "3.6.5"
  }
 },
 "nbformat": 4,
 "nbformat_minor": 2
}
